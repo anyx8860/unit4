{
 "cells": [
  {
   "cell_type": "code",
   "execution_count": 39,
   "metadata": {},
   "outputs": [
    {
     "data": {
      "text/html": [
       "<div>\n",
       "<style scoped>\n",
       "    .dataframe tbody tr th:only-of-type {\n",
       "        vertical-align: middle;\n",
       "    }\n",
       "\n",
       "    .dataframe tbody tr th {\n",
       "        vertical-align: top;\n",
       "    }\n",
       "\n",
       "    .dataframe thead th {\n",
       "        text-align: right;\n",
       "    }\n",
       "</style>\n",
       "<table border=\"1\" class=\"dataframe\">\n",
       "  <thead>\n",
       "    <tr style=\"text-align: right;\">\n",
       "      <th></th>\n",
       "      <th>Purchase ID</th>\n",
       "      <th>SN</th>\n",
       "      <th>Age</th>\n",
       "      <th>Gender</th>\n",
       "      <th>Item ID</th>\n",
       "      <th>Item Name</th>\n",
       "      <th>Price</th>\n",
       "    </tr>\n",
       "  </thead>\n",
       "  <tbody>\n",
       "    <tr>\n",
       "      <th>0</th>\n",
       "      <td>0</td>\n",
       "      <td>Lisim78</td>\n",
       "      <td>20</td>\n",
       "      <td>Male</td>\n",
       "      <td>108</td>\n",
       "      <td>Extraction, Quickblade Of Trembling Hands</td>\n",
       "      <td>3.53</td>\n",
       "    </tr>\n",
       "    <tr>\n",
       "      <th>1</th>\n",
       "      <td>1</td>\n",
       "      <td>Lisovynya38</td>\n",
       "      <td>40</td>\n",
       "      <td>Male</td>\n",
       "      <td>143</td>\n",
       "      <td>Frenzied Scimitar</td>\n",
       "      <td>1.56</td>\n",
       "    </tr>\n",
       "    <tr>\n",
       "      <th>2</th>\n",
       "      <td>2</td>\n",
       "      <td>Ithergue48</td>\n",
       "      <td>24</td>\n",
       "      <td>Male</td>\n",
       "      <td>92</td>\n",
       "      <td>Final Critic</td>\n",
       "      <td>4.88</td>\n",
       "    </tr>\n",
       "    <tr>\n",
       "      <th>3</th>\n",
       "      <td>3</td>\n",
       "      <td>Chamassasya86</td>\n",
       "      <td>24</td>\n",
       "      <td>Male</td>\n",
       "      <td>100</td>\n",
       "      <td>Blindscythe</td>\n",
       "      <td>3.27</td>\n",
       "    </tr>\n",
       "    <tr>\n",
       "      <th>4</th>\n",
       "      <td>4</td>\n",
       "      <td>Iskosia90</td>\n",
       "      <td>23</td>\n",
       "      <td>Male</td>\n",
       "      <td>131</td>\n",
       "      <td>Fury</td>\n",
       "      <td>1.44</td>\n",
       "    </tr>\n",
       "  </tbody>\n",
       "</table>\n",
       "</div>"
      ],
      "text/plain": [
       "   Purchase ID             SN  Age Gender  Item ID  \\\n",
       "0            0        Lisim78   20   Male      108   \n",
       "1            1    Lisovynya38   40   Male      143   \n",
       "2            2     Ithergue48   24   Male       92   \n",
       "3            3  Chamassasya86   24   Male      100   \n",
       "4            4      Iskosia90   23   Male      131   \n",
       "\n",
       "                                   Item Name  Price  \n",
       "0  Extraction, Quickblade Of Trembling Hands   3.53  \n",
       "1                          Frenzied Scimitar   1.56  \n",
       "2                               Final Critic   4.88  \n",
       "3                                Blindscythe   3.27  \n",
       "4                                       Fury   1.44  "
      ]
     },
     "execution_count": 39,
     "metadata": {},
     "output_type": "execute_result"
    }
   ],
   "source": [
    "import pandas as pd\n",
    "\n",
    "video = \"Resources/purchase_data.csv\"\n",
    "video_game = pd.read_csv(video)\n",
    "video_game.head()"
   ]
  },
  {
   "cell_type": "code",
   "execution_count": 40,
   "metadata": {},
   "outputs": [
    {
     "data": {
      "text/plain": [
       "Purchase ID    780\n",
       "SN             780\n",
       "Age            780\n",
       "Gender         780\n",
       "Item ID        780\n",
       "Item Name      780\n",
       "Price          780\n",
       "dtype: int64"
      ]
     },
     "execution_count": 40,
     "metadata": {},
     "output_type": "execute_result"
    }
   ],
   "source": [
    "video_game.count()"
   ]
  },
  {
   "cell_type": "code",
   "execution_count": 41,
   "metadata": {},
   "outputs": [
    {
     "data": {
      "text/plain": [
       "array([108, 143,  92, 100, 131,  81, 169, 162,  21, 136,  95, 116,   4,\n",
       "       165,  98,  40, 161,  82,  89,  57, 168,  24, 151, 141, 178,  71,\n",
       "        96, 119,  37, 140, 179, 133,  44, 160,  53,  76,  73, 172,   7,\n",
       "        72,   9, 181, 102, 170, 138, 110,  22,  15,  60, 176,  25,  84,\n",
       "        80, 152, 105, 125,  56,  34,   6,  27,  29,  68, 124,  88,  20,\n",
       "        50, 174,  12,  33, 129,  17,  59,  39, 164, 134, 101, 109,  10,\n",
       "        54,  99,  85, 139,  41, 150,  13, 117,  78,  87,   1,  62,  75,\n",
       "        58,  74, 120, 145,   0,   2, 146, 158,   8, 175,  46, 148, 111,\n",
       "         3,  65, 183,  30, 157, 123,   5, 144, 103, 135,  51, 154,  32,\n",
       "        77,  11,  63,  69, 113, 153, 114, 149, 159, 137, 142,  66,  97,\n",
       "       163, 107,  16,  42,  19,  83,  23,  28,  94, 182,  70,  18, 166,\n",
       "       173, 167, 155, 128, 156, 147,  35, 171,  52, 106,  38,  91, 118,\n",
       "        67,  45,  49, 121,  79,  14,  43,  31,  64,  86,  93,  26, 122,\n",
       "        61,  48, 112, 126, 115,  55, 132, 127,  47, 130,  90, 177, 104,\n",
       "       180], dtype=int64)"
      ]
     },
     "execution_count": 41,
     "metadata": {},
     "output_type": "execute_result"
    }
   ],
   "source": [
    "video_game[\"Item ID\"].unique()\n"
   ]
  },
  {
   "cell_type": "code",
   "execution_count": 42,
   "metadata": {},
   "outputs": [
    {
     "data": {
      "text/plain": [
       "3.050987179487176"
      ]
     },
     "execution_count": 42,
     "metadata": {},
     "output_type": "execute_result"
    }
   ],
   "source": [
    "video_game[\"Price\"].mean()"
   ]
  },
  {
   "cell_type": "code",
   "execution_count": 43,
   "metadata": {},
   "outputs": [
    {
     "data": {
      "text/plain": [
       "780"
      ]
     },
     "execution_count": 43,
     "metadata": {},
     "output_type": "execute_result"
    }
   ],
   "source": [
    "video_game[\"Purchase ID\"].count()"
   ]
  },
  {
   "cell_type": "code",
   "execution_count": 44,
   "metadata": {},
   "outputs": [
    {
     "data": {
      "text/plain": [
       "2379.77"
      ]
     },
     "execution_count": 44,
     "metadata": {},
     "output_type": "execute_result"
    }
   ],
   "source": [
    "video_game[\"Price\"].sum()"
   ]
  },
  {
   "cell_type": "code",
   "execution_count": 47,
   "metadata": {},
   "outputs": [
    {
     "name": "stdout",
     "output_type": "stream",
     "text": [
      "percentage of male players 83.58974358974359 %\n",
      "percentage of female players 14.487179487179489 %\n",
      "percentage of different 1.9230769230769231\n"
     ]
    }
   ],
   "source": [
    "total = video_game[\"Item ID\"].count()\n",
    "m_player = video_game.loc[video_game[\"Gender\"] == \"Male\"]\n",
    "male = m_player[\"Gender\"].count()\n",
    "print(\"percentage of male players\", (male/total) * 100, \"%\")\n",
    "f_player = video_game.loc[video_game[\"Gender\"] == \"Female\"]\n",
    "female = f_player[\"Gender\"].count()\n",
    "print(\"percentage of female players\", (female/total)*100,\"%\")\n",
    "d_player = video_game.loc[(video_game[\"Gender\"] != \"Male\") & (video_game[\"Gender\"] != \"Female\")]\n",
    "d = d_player[\"Gender\"].count()\n",
    "print(\"percentage of different\", (d/total)*100)"
   ]
  },
  {
   "cell_type": "code",
   "execution_count": 55,
   "metadata": {},
   "outputs": [
    {
     "name": "stdout",
     "output_type": "stream",
     "text": [
      "Purchase ID    652\n",
      "SN             652\n",
      "Age            652\n",
      "Gender         652\n",
      "Item ID        652\n",
      "Item Name      652\n",
      "Price          652\n",
      "dtype: int64\n",
      "femeil\n",
      "Purchase ID    113\n",
      "SN             113\n",
      "Age            113\n",
      "Gender         113\n",
      "Item ID        113\n",
      "Item Name      113\n",
      "Price          113\n",
      "dtype: int64\n",
      "different players\n",
      "Purchase ID    15\n",
      "SN             15\n",
      "Age            15\n",
      "Gender         15\n",
      "Item ID        15\n",
      "Item Name      15\n",
      "Price          15\n",
      "dtype: int64\n",
      "average male  3.0178527607361953\n",
      "avereage femail  3.203008849557519\n",
      "average different 3.3460000000000005\n",
      "average male  1967.64\n",
      "avereage femail  361.94\n",
      "average different 50.19\n"
     ]
    }
   ],
   "source": [
    "print(m_player.count())\n",
    "print(\"femeil\")\n",
    "print(f_player.count())\n",
    "print(\"different players\")\n",
    "print(d_player.count())\n",
    "print(\"average male \", m_player[\"Price\"].mean())\n",
    "print(\"avereage femail \", f_player[\"Price\"].mean())\n",
    "print(\"average different\", d_player[\"Price\"].mean())\n",
    "print(\"average male \", m_player[\"Price\"].sum())\n",
    "print(\"avereage femail \", f_player[\"Price\"].sum())\n",
    "print(\"average different\", d_player[\"Price\"].sum())\n"
   ]
  },
  {
   "cell_type": "code",
   "execution_count": null,
   "metadata": {},
   "outputs": [],
   "source": []
  }
 ],
 "metadata": {
  "kernelspec": {
   "display_name": "Python 3",
   "language": "python",
   "name": "python3"
  },
  "language_info": {
   "codemirror_mode": {
    "name": "ipython",
    "version": 3
   },
   "file_extension": ".py",
   "mimetype": "text/x-python",
   "name": "python",
   "nbconvert_exporter": "python",
   "pygments_lexer": "ipython3",
   "version": "3.6.5"
  }
 },
 "nbformat": 4,
 "nbformat_minor": 2
}
